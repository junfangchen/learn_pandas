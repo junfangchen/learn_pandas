{
 "cells": [
  {
   "cell_type": "markdown",
   "metadata": {},
   "source": [
    "# 第2次"
   ]
  },
  {
   "cell_type": "markdown",
   "metadata": {},
   "source": [
    "嗨，大家好。以下是第2次的小任务：\n",
    "\n",
    "1、本地启用 jupyter，创建你的notebook文件\n",
    "\n",
    "本地启动 jupyter lab 或jupyter notebook，并创建一个 python3 的notebook（创建完成后，是一个.ipynb文件）。\n",
    "\n",
    "如果你没有设备，直接在xue.cn网页上进入 任意一本编程类的书，点击+新建cell也可以，但那样的话，无法保存，你自己没有记录了。\n",
    "\n",
    "2、作为引子的脚本：\n",
    "\n",
    "下面这个脚本，处理csv文件读写，请在你的notebook文件中手动敲一遍，并运行成功。同时理解每一行代码、每一个函数是做什么的。\n",
    "\n",
    "3、阅读材料：\n",
    "\n",
    "[《跟老齐学python：数据分析》](https://xue.cn/hub/app/books/20 ) 的 第 2 章 文件读写操作的 csv 这一部分。通读数遍，**不需要死记硬背**。\n",
    "\n",
    "阅读过程中，请在你的notebook文件中试试敲敲代码，随手记一些注释、想法之类。也可以试着改写一些代码。\n",
    "\n",
    "\n",
    "4、额外作业（学有余力再尝试）：\n",
    "\n",
    "4.1 实操\n",
    "\n",
    "把你平时用到的excel 文件（数据量越大越好），拷贝一份并另存一份为 csv 文件，然后**默写**读取该文件的代码，并发到群内。\n",
    "\n",
    "**默写**不出来，就多敲几次吖。\n",
    "\n",
    "不需要尝试复杂的，先打通以上几步就可以。本part的文件和代码以后都还用得上。\n",
    "\n",
    "\n",
    "4.2 思考、对比、实操\n",
    "\n",
    "你了解/掌握python 中哪些读写文件（可以涉及不同文件类型）的方式？可以试着把它们整理出来，也可以试试**默写**所掌握的方法并保证代码通畅可行。\n",
    "\n",
    "\n",
    "\n"
   ]
  },
  {
   "cell_type": "code",
   "execution_count": 1,
   "metadata": {},
   "outputs": [],
   "source": [
    "import pandas as pd\n",
    "\n",
    "# 文件地址、文件名等可变数据，最好放在 导入区域下方、正式代码上方，赋值给一个变量来存储，而不是直接把文件地址信息写进下方代码。\n",
    "file_path = './my_test.csv'  \n",
    "\n",
    "# 构建一个 dataframe 数据结构。可以暂时不深究 dataframe 这个数据结构到底是什么。\n",
    "df1 = pd.DataFrame({\n",
    "    'time':['12:05','14:03'],\n",
    "    'action':['lunch','work']\n",
    "})\n",
    "\n",
    "# dataframe 数据写入 csv 文件\n",
    "df1.to_csv(file_path)\n",
    "\n",
    "# 从 csv 文件读取 dataframe 数据\n",
    "df2 = pd.read_csv(file_path)\n",
    "\n",
    "# dataframe 数据写入 csv 文件\n",
    "df2.to_csv(file_path)\n",
    "\n",
    "# 从 csv 文件再次读取 dataframe 数据\n",
    "df3 = pd.read_csv(file_path)"
   ]
  },
  {
   "cell_type": "code",
   "execution_count": 2,
   "metadata": {},
   "outputs": [
    {
     "data": {
      "text/html": [
       "<div>\n",
       "<style scoped>\n",
       "    .dataframe tbody tr th:only-of-type {\n",
       "        vertical-align: middle;\n",
       "    }\n",
       "\n",
       "    .dataframe tbody tr th {\n",
       "        vertical-align: top;\n",
       "    }\n",
       "\n",
       "    .dataframe thead th {\n",
       "        text-align: right;\n",
       "    }\n",
       "</style>\n",
       "<table border=\"1\" class=\"dataframe\">\n",
       "  <thead>\n",
       "    <tr style=\"text-align: right;\">\n",
       "      <th></th>\n",
       "      <th>time</th>\n",
       "      <th>action</th>\n",
       "    </tr>\n",
       "  </thead>\n",
       "  <tbody>\n",
       "    <tr>\n",
       "      <th>0</th>\n",
       "      <td>12:05</td>\n",
       "      <td>lunch</td>\n",
       "    </tr>\n",
       "    <tr>\n",
       "      <th>1</th>\n",
       "      <td>14:03</td>\n",
       "      <td>work</td>\n",
       "    </tr>\n",
       "  </tbody>\n",
       "</table>\n",
       "</div>"
      ],
      "text/plain": [
       "    time action\n",
       "0  12:05  lunch\n",
       "1  14:03   work"
      ]
     },
     "execution_count": 2,
     "metadata": {},
     "output_type": "execute_result"
    }
   ],
   "source": [
    "# jupyter notebook 让我们可以直接输入一个变量，运行cell就可打印它的值\n",
    "df1"
   ]
  },
  {
   "cell_type": "code",
   "execution_count": 3,
   "metadata": {},
   "outputs": [
    {
     "data": {
      "text/html": [
       "<div>\n",
       "<style scoped>\n",
       "    .dataframe tbody tr th:only-of-type {\n",
       "        vertical-align: middle;\n",
       "    }\n",
       "\n",
       "    .dataframe tbody tr th {\n",
       "        vertical-align: top;\n",
       "    }\n",
       "\n",
       "    .dataframe thead th {\n",
       "        text-align: right;\n",
       "    }\n",
       "</style>\n",
       "<table border=\"1\" class=\"dataframe\">\n",
       "  <thead>\n",
       "    <tr style=\"text-align: right;\">\n",
       "      <th></th>\n",
       "      <th>Unnamed: 0</th>\n",
       "      <th>time</th>\n",
       "      <th>action</th>\n",
       "    </tr>\n",
       "  </thead>\n",
       "  <tbody>\n",
       "    <tr>\n",
       "      <th>0</th>\n",
       "      <td>0</td>\n",
       "      <td>12:05</td>\n",
       "      <td>lunch</td>\n",
       "    </tr>\n",
       "    <tr>\n",
       "      <th>1</th>\n",
       "      <td>1</td>\n",
       "      <td>14:03</td>\n",
       "      <td>work</td>\n",
       "    </tr>\n",
       "  </tbody>\n",
       "</table>\n",
       "</div>"
      ],
      "text/plain": [
       "   Unnamed: 0   time action\n",
       "0           0  12:05  lunch\n",
       "1           1  14:03   work"
      ]
     },
     "execution_count": 3,
     "metadata": {},
     "output_type": "execute_result"
    }
   ],
   "source": [
    "df2"
   ]
  },
  {
   "cell_type": "code",
   "execution_count": 10,
   "metadata": {},
   "outputs": [
    {
     "data": {
      "text/html": [
       "<div>\n",
       "<style scoped>\n",
       "    .dataframe tbody tr th:only-of-type {\n",
       "        vertical-align: middle;\n",
       "    }\n",
       "\n",
       "    .dataframe tbody tr th {\n",
       "        vertical-align: top;\n",
       "    }\n",
       "\n",
       "    .dataframe thead th {\n",
       "        text-align: right;\n",
       "    }\n",
       "</style>\n",
       "<table border=\"1\" class=\"dataframe\">\n",
       "  <thead>\n",
       "    <tr style=\"text-align: right;\">\n",
       "      <th></th>\n",
       "      <th>Unnamed: 0</th>\n",
       "      <th>Unnamed: 0.1</th>\n",
       "      <th>time</th>\n",
       "      <th>action</th>\n",
       "    </tr>\n",
       "  </thead>\n",
       "  <tbody>\n",
       "    <tr>\n",
       "      <th>0</th>\n",
       "      <td>0</td>\n",
       "      <td>0</td>\n",
       "      <td>12:05</td>\n",
       "      <td>lunch</td>\n",
       "    </tr>\n",
       "    <tr>\n",
       "      <th>1</th>\n",
       "      <td>1</td>\n",
       "      <td>1</td>\n",
       "      <td>14:03</td>\n",
       "      <td>work</td>\n",
       "    </tr>\n",
       "  </tbody>\n",
       "</table>\n",
       "</div>"
      ],
      "text/plain": [
       "   Unnamed: 0  Unnamed: 0.1   time action\n",
       "0           0             0  12:05  lunch\n",
       "1           1             1  14:03   work"
      ]
     },
     "execution_count": 10,
     "metadata": {},
     "output_type": "execute_result"
    }
   ],
   "source": [
    "df3"
   ]
  },
  {
   "cell_type": "markdown",
   "metadata": {},
   "source": [
    "如果你已经完成了阅读材料的学习，那么请再次查找材料，找到 不显示 unnamed: 这列的方法吧~"
   ]
  }
 ],
 "metadata": {
  "kernelspec": {
   "display_name": "Python 3",
   "language": "python",
   "name": "python3"
  },
  "language_info": {
   "codemirror_mode": {
    "name": "ipython",
    "version": 3
   },
   "file_extension": ".py",
   "mimetype": "text/x-python",
   "name": "python",
   "nbconvert_exporter": "python",
   "pygments_lexer": "ipython3",
   "version": "3.6.5"
  }
 },
 "nbformat": 4,
 "nbformat_minor": 2
}
