{
 "cells": [
  {
   "cell_type": "markdown",
   "metadata": {},
   "source": [
    "# DataFrame数据生成"
   ]
  },
  {
   "cell_type": "code",
   "execution_count": 12,
   "metadata": {},
   "outputs": [],
   "source": [
    "import pandas as pd\n",
    "import numpy as np\n",
    "df = pd.DataFrame(data=None)\n",
    "#data 可以是嵌套列表，字典，np二维数组等。。"
   ]
  },
  {
   "cell_type": "code",
   "execution_count": 13,
   "metadata": {},
   "outputs": [
    {
     "data": {
      "text/html": [
       "<div>\n",
       "<style scoped>\n",
       "    .dataframe tbody tr th:only-of-type {\n",
       "        vertical-align: middle;\n",
       "    }\n",
       "\n",
       "    .dataframe tbody tr th {\n",
       "        vertical-align: top;\n",
       "    }\n",
       "\n",
       "    .dataframe thead th {\n",
       "        text-align: right;\n",
       "    }\n",
       "</style>\n",
       "<table border=\"1\" class=\"dataframe\">\n",
       "  <thead>\n",
       "    <tr style=\"text-align: right;\">\n",
       "      <th></th>\n",
       "      <th>姓名</th>\n",
       "      <th>得分</th>\n",
       "    </tr>\n",
       "  </thead>\n",
       "  <tbody>\n",
       "    <tr>\n",
       "      <th>1</th>\n",
       "      <td>贾巴尔</td>\n",
       "      <td>38387</td>\n",
       "    </tr>\n",
       "    <tr>\n",
       "      <th>2</th>\n",
       "      <td>马龙</td>\n",
       "      <td>36928</td>\n",
       "    </tr>\n",
       "    <tr>\n",
       "      <th>3</th>\n",
       "      <td>詹姆斯</td>\n",
       "      <td>34030</td>\n",
       "    </tr>\n",
       "    <tr>\n",
       "      <th>4</th>\n",
       "      <td>科比</td>\n",
       "      <td>33643</td>\n",
       "    </tr>\n",
       "    <tr>\n",
       "      <th>5</th>\n",
       "      <td>乔丹</td>\n",
       "      <td>32292</td>\n",
       "    </tr>\n",
       "    <tr>\n",
       "      <th>6</th>\n",
       "      <td>诺维茨基</td>\n",
       "      <td>31560</td>\n",
       "    </tr>\n",
       "    <tr>\n",
       "      <th>7</th>\n",
       "      <td>张伯伦</td>\n",
       "      <td>31419</td>\n",
       "    </tr>\n",
       "    <tr>\n",
       "      <th>8</th>\n",
       "      <td>奥尼尔</td>\n",
       "      <td>28596</td>\n",
       "    </tr>\n",
       "    <tr>\n",
       "      <th>9</th>\n",
       "      <td>摩西马龙</td>\n",
       "      <td>27409</td>\n",
       "    </tr>\n",
       "    <tr>\n",
       "      <th>10</th>\n",
       "      <td>海耶斯</td>\n",
       "      <td>27131</td>\n",
       "    </tr>\n",
       "  </tbody>\n",
       "</table>\n",
       "</div>"
      ],
      "text/plain": [
       "      姓名     得分\n",
       "1    贾巴尔  38387\n",
       "2     马龙  36928\n",
       "3    詹姆斯  34030\n",
       "4     科比  33643\n",
       "5     乔丹  32292\n",
       "6   诺维茨基  31560\n",
       "7    张伯伦  31419\n",
       "8    奥尼尔  28596\n",
       "9   摩西马龙  27409\n",
       "10   海耶斯  27131"
      ]
     },
     "execution_count": 13,
     "metadata": {},
     "output_type": "execute_result"
    }
   ],
   "source": [
    "#嵌套列表\n",
    "df = pd.DataFrame([[\"贾巴尔\",\"马龙\",\"詹姆斯\",\"科比\",\"乔丹\",\"诺维茨基\",\"张伯伦\",\"奥尼尔\",\"摩西马龙\",\"海耶斯\"],[38387,36928,34030,33643,32292,31560,31419,28596,27409,27131]]).T\n",
    "df.columns = [\"姓名\",\"得分\"]\n",
    "#df.index = [1,2,3,4,5,6,7,8,9,10]\n",
    "df.index = range(1,11)\n",
    "df"
   ]
  },
  {
   "cell_type": "code",
   "execution_count": 14,
   "metadata": {},
   "outputs": [
    {
     "data": {
      "text/html": [
       "<div>\n",
       "<style scoped>\n",
       "    .dataframe tbody tr th:only-of-type {\n",
       "        vertical-align: middle;\n",
       "    }\n",
       "\n",
       "    .dataframe tbody tr th {\n",
       "        vertical-align: top;\n",
       "    }\n",
       "\n",
       "    .dataframe thead th {\n",
       "        text-align: right;\n",
       "    }\n",
       "</style>\n",
       "<table border=\"1\" class=\"dataframe\">\n",
       "  <thead>\n",
       "    <tr style=\"text-align: right;\">\n",
       "      <th></th>\n",
       "      <th>姓名</th>\n",
       "      <th>得分</th>\n",
       "    </tr>\n",
       "  </thead>\n",
       "  <tbody>\n",
       "    <tr>\n",
       "      <th>1</th>\n",
       "      <td>贾巴尔</td>\n",
       "      <td>38387</td>\n",
       "    </tr>\n",
       "    <tr>\n",
       "      <th>2</th>\n",
       "      <td>马龙</td>\n",
       "      <td>36928</td>\n",
       "    </tr>\n",
       "    <tr>\n",
       "      <th>3</th>\n",
       "      <td>詹姆斯</td>\n",
       "      <td>34030</td>\n",
       "    </tr>\n",
       "    <tr>\n",
       "      <th>4</th>\n",
       "      <td>科比</td>\n",
       "      <td>33643</td>\n",
       "    </tr>\n",
       "    <tr>\n",
       "      <th>5</th>\n",
       "      <td>乔丹</td>\n",
       "      <td>32292</td>\n",
       "    </tr>\n",
       "    <tr>\n",
       "      <th>6</th>\n",
       "      <td>诺维茨基</td>\n",
       "      <td>31560</td>\n",
       "    </tr>\n",
       "    <tr>\n",
       "      <th>7</th>\n",
       "      <td>张伯伦</td>\n",
       "      <td>31419</td>\n",
       "    </tr>\n",
       "    <tr>\n",
       "      <th>8</th>\n",
       "      <td>奥尼尔</td>\n",
       "      <td>28596</td>\n",
       "    </tr>\n",
       "    <tr>\n",
       "      <th>9</th>\n",
       "      <td>摩西马龙</td>\n",
       "      <td>27409</td>\n",
       "    </tr>\n",
       "    <tr>\n",
       "      <th>10</th>\n",
       "      <td>海耶斯</td>\n",
       "      <td>27131</td>\n",
       "    </tr>\n",
       "  </tbody>\n",
       "</table>\n",
       "</div>"
      ],
      "text/plain": [
       "      姓名     得分\n",
       "1    贾巴尔  38387\n",
       "2     马龙  36928\n",
       "3    詹姆斯  34030\n",
       "4     科比  33643\n",
       "5     乔丹  32292\n",
       "6   诺维茨基  31560\n",
       "7    张伯伦  31419\n",
       "8    奥尼尔  28596\n",
       "9   摩西马龙  27409\n",
       "10   海耶斯  27131"
      ]
     },
     "execution_count": 14,
     "metadata": {},
     "output_type": "execute_result"
    }
   ],
   "source": [
    "#字典\n",
    "df2 = pd.DataFrame({\"姓名\":[\"贾巴尔\",\"马龙\",\"詹姆斯\",\"科比\",\"乔丹\",\"诺维茨基\",\"张伯伦\",\"奥尼尔\",\"摩西马龙\",\"海耶斯\"],\"得分\":[38387,36928,34030,33643,32292,31560,31419,28596,27409,27131]},index = range(1,11))\n",
    "df2"
   ]
  },
  {
   "cell_type": "code",
   "execution_count": 15,
   "metadata": {},
   "outputs": [
    {
     "data": {
      "text/html": [
       "<div>\n",
       "<style scoped>\n",
       "    .dataframe tbody tr th:only-of-type {\n",
       "        vertical-align: middle;\n",
       "    }\n",
       "\n",
       "    .dataframe tbody tr th {\n",
       "        vertical-align: top;\n",
       "    }\n",
       "\n",
       "    .dataframe thead th {\n",
       "        text-align: right;\n",
       "    }\n",
       "</style>\n",
       "<table border=\"1\" class=\"dataframe\">\n",
       "  <thead>\n",
       "    <tr style=\"text-align: right;\">\n",
       "      <th></th>\n",
       "      <th>姓名</th>\n",
       "      <th>得分</th>\n",
       "    </tr>\n",
       "  </thead>\n",
       "  <tbody>\n",
       "    <tr>\n",
       "      <th>1</th>\n",
       "      <td>贾巴尔</td>\n",
       "      <td>38387</td>\n",
       "    </tr>\n",
       "    <tr>\n",
       "      <th>2</th>\n",
       "      <td>马龙</td>\n",
       "      <td>36928</td>\n",
       "    </tr>\n",
       "    <tr>\n",
       "      <th>3</th>\n",
       "      <td>詹姆斯</td>\n",
       "      <td>34030</td>\n",
       "    </tr>\n",
       "  </tbody>\n",
       "</table>\n",
       "</div>"
      ],
      "text/plain": [
       "    姓名     得分\n",
       "1  贾巴尔  38387\n",
       "2   马龙  36928\n",
       "3  詹姆斯  34030"
      ]
     },
     "execution_count": 15,
     "metadata": {},
     "output_type": "execute_result"
    }
   ],
   "source": [
    "#np 2维数组\n",
    "data = np.array([(\"贾巴尔\",38387),(\"马龙\",36928),(\"詹姆斯\",34030)])\n",
    "df3 = pd.DataFrame(data, columns = [\"姓名\",\"得分\"], index = range(1,4))\n",
    "df3"
   ]
  },
  {
   "cell_type": "markdown",
   "metadata": {},
   "source": [
    "# numpy 基本知识总结"
   ]
  },
  {
   "cell_type": "markdown",
   "metadata": {},
   "source": [
    "## 1.np数组创建与访问"
   ]
  },
  {
   "cell_type": "code",
   "execution_count": 74,
   "metadata": {},
   "outputs": [],
   "source": [
    "a = [1,2,3] #列表\n",
    "b = [[1,2,3],[4,5,6]]#嵌套列表\n",
    "\n",
    "#用列表创建np数组,np里面元素只能是同一个类型\n",
    "x = np.array(a)#数学上叫向量\n",
    "y = np.array(b)#数学上叫矩阵"
   ]
  },
  {
   "cell_type": "code",
   "execution_count": 75,
   "metadata": {},
   "outputs": [
    {
     "name": "stdout",
     "output_type": "stream",
     "text": [
      "[1 2 3]\n",
      "1\n",
      "(3,)\n",
      "1\n"
     ]
    },
    {
     "data": {
      "text/plain": [
       "numpy.ndarray"
      ]
     },
     "execution_count": 75,
     "metadata": {},
     "output_type": "execute_result"
    }
   ],
   "source": [
    "print(x)\n",
    "print(x.ndim)\n",
    "print(x.shape)\n",
    "print(x[0])#3行的1维数组\n",
    "type(x)"
   ]
  },
  {
   "cell_type": "code",
   "execution_count": 76,
   "metadata": {},
   "outputs": [
    {
     "name": "stdout",
     "output_type": "stream",
     "text": [
      "[[1 2 3]\n",
      " [4 5 6]]\n",
      "2\n",
      "(2, 3)\n",
      "2\n",
      "3\n",
      "[1 2 3]\n",
      "[4 5 6]\n",
      "1 2 3\n",
      "4 5 6\n",
      "int32\n"
     ]
    }
   ],
   "source": [
    "print(y)\n",
    "\n",
    "print(np.ndim(y))#判断y是几维数组\n",
    "#print(y.ndim)\n",
    "\n",
    "print(y.shape)#返回一个tuple，每一维有几个元素，比如y是一个2行3列的数组\n",
    "print(y.shape[0])#第一维几个元素\n",
    "print(y.shape[1])#第二维几个元素\n",
    "\n",
    "print(y[0],y[1],sep = \"\\n\")#下标访问元素，第一个下标是行下标\n",
    "print(y[0][0],y[0][1],y[0][2])\n",
    "print(y[1][0],y[1][1],y[1][2])\n",
    "\n",
    "print(y.dtype)"
   ]
  },
  {
   "cell_type": "code",
   "execution_count": 77,
   "metadata": {},
   "outputs": [
    {
     "name": "stdout",
     "output_type": "stream",
     "text": [
      "[[1. 2. 3.]\n",
      " [4. 5. 6.]]\n",
      "float32\n",
      "[[1. 2. 3.]\n",
      " [4. 5. 6.]]\n",
      "float32\n"
     ]
    }
   ],
   "source": [
    "#1.数据类型转换\n",
    "y1 = y.astype(np.float32)\n",
    "print(y1)\n",
    "print(y1.dtype)\n",
    "\n",
    "#2.创建np数组时就可以指定类型\n",
    "y2 = np.array(b,dtype = np.float32)\n",
    "print(y2)\n",
    "print(y2.dtype)"
   ]
  },
  {
   "cell_type": "markdown",
   "metadata": {},
   "source": [
    "## 2.np数组计算"
   ]
  },
  {
   "cell_type": "code",
   "execution_count": 78,
   "metadata": {},
   "outputs": [
    {
     "name": "stdout",
     "output_type": "stream",
     "text": [
      "[1 2 3]\n",
      "[[1 2 3]\n",
      " [4 5 6]]\n"
     ]
    }
   ],
   "source": [
    "print(x)\n",
    "print(y)"
   ]
  },
  {
   "cell_type": "markdown",
   "metadata": {},
   "source": [
    "### 加减乘除"
   ]
  },
  {
   "cell_type": "code",
   "execution_count": 79,
   "metadata": {},
   "outputs": [
    {
     "name": "stdout",
     "output_type": "stream",
     "text": [
      "[[2 4 6]\n",
      " [5 7 9]]\n",
      "[[0 0 0]\n",
      " [3 3 3]]\n",
      "[[ 1  4  9]\n",
      " [ 4 10 18]]\n",
      "[[1.  1.  1. ]\n",
      " [4.  2.5 2. ]]\n"
     ]
    }
   ],
   "source": [
    "#加减乘除\n",
    "print(y+x)\n",
    "#print(np.add(y,x))\n",
    "\n",
    "print(y-x)\n",
    "#print(np.subtract(y,x))\n",
    "\n",
    "print(y*x)\n",
    "#print(np.multiply(y,x))\n",
    "\n",
    "print(y/x)\n",
    "#print(np.divide(y,x))"
   ]
  },
  {
   "cell_type": "markdown",
   "metadata": {},
   "source": [
    "### **点积(dot .)**"
   ]
  },
  {
   "cell_type": "markdown",
   "metadata": {},
   "source": [
    "                            数学公式\n",
    "$$x = \\begin{pmatrix} a_{1} & a_{2} & a_{3} \\end{pmatrix}$$\n",
    "$$y = \\begin{pmatrix} b_{1} & b_{2} & b_{3} \\end{pmatrix}$$\n",
    "$$x \\cdot y = a_{1}b_{1} + a_{2}b_{2} + a_{3}b_{3}$$"
   ]
  },
  {
   "cell_type": "code",
   "execution_count": 80,
   "metadata": {},
   "outputs": [],
   "source": [
    "m = np.array([1,2,3])\n",
    "n = np.array([4,5,6])"
   ]
  },
  {
   "cell_type": "code",
   "execution_count": 82,
   "metadata": {},
   "outputs": [
    {
     "name": "stdout",
     "output_type": "stream",
     "text": [
      "32\n",
      "32\n",
      "32\n",
      "32\n"
     ]
    }
   ],
   "source": [
    "#2个向量的点积是个标量，是一个数值\n",
    "print(m.dot(n))\n",
    "print(n.dot(m))\n",
    "print(np.dot(m,n))\n",
    "print(np.dot(n,m))"
   ]
  },
  {
   "cell_type": "code",
   "execution_count": null,
   "metadata": {},
   "outputs": [],
   "source": []
  },
  {
   "cell_type": "code",
   "execution_count": null,
   "metadata": {},
   "outputs": [],
   "source": []
  }
 ],
 "metadata": {
  "kernelspec": {
   "display_name": "Python 3",
   "language": "python",
   "name": "python3"
  },
  "language_info": {
   "codemirror_mode": {
    "name": "ipython",
    "version": 3
   },
   "file_extension": ".py",
   "mimetype": "text/x-python",
   "name": "python",
   "nbconvert_exporter": "python",
   "pygments_lexer": "ipython3",
   "version": "3.6.5"
  }
 },
 "nbformat": 4,
 "nbformat_minor": 4
}
